{
 "cells": [
  {
   "cell_type": "code",
   "execution_count": null,
   "id": "85e6d1f9-7e90-419f-addd-dc8299aaa3f2",
   "metadata": {},
   "outputs": [],
   "source": [
    "# Q1 answer :\n",
    "\n",
    "Class :\n",
    "    A class is a blueprint for the object in OOPS.\n",
    "    Example :\n",
    "        A X company car is an example of class. \n",
    "        There are lot of cars under the X company cars.\n",
    "Object :\n",
    "    An object is an example of class.\n",
    "    Example :\n",
    "        There are lot of cars under the X company cars.\n",
    "        So, every car is an example of an object."
   ]
  },
  {
   "cell_type": "code",
   "execution_count": null,
   "id": "57f4a892-fed8-4bfc-82cf-ef425134dc56",
   "metadata": {},
   "outputs": [],
   "source": [
    "# Q2 answer :\n",
    "\n",
    "Name of the four pillars of OOPs :\n",
    "    1) Class and objects\n",
    "    2) Inheritance\n",
    "    3) Encapsulation\n",
    "    4) Polymorphism"
   ]
  },
  {
   "cell_type": "code",
   "execution_count": null,
   "id": "ab0c4a3d-bf75-4fd0-b589-6f17811a2381",
   "metadata": {},
   "outputs": [],
   "source": [
    "# Q3 answer :\n",
    "\n",
    "__init__ function is used as a constructor.\n",
    "\n",
    "Example of using __init__ :"
   ]
  },
  {
   "cell_type": "code",
   "execution_count": 4,
   "id": "c870baa1-7a60-4bbb-b05e-761568875200",
   "metadata": {},
   "outputs": [],
   "source": [
    "class rajib :\n",
    "    def __init__(rak, full_name, age, height, weight) :\n",
    "        rak.full_name = full_name\n",
    "        rak.age = age\n",
    "        rak.height = height\n",
    "        rak.weight = weight\n",
    "    def about_rajib(rak) :\n",
    "        return rak.full_name, rak.age, rak.height, rak.weight"
   ]
  },
  {
   "cell_type": "code",
   "execution_count": 5,
   "id": "c55132a1-044c-4138-b25b-7460751a7a7c",
   "metadata": {},
   "outputs": [],
   "source": [
    "a = rajib('rajib ali khan', 24, 6.0, 80)"
   ]
  },
  {
   "cell_type": "code",
   "execution_count": 6,
   "id": "1ef8f4e5-0473-4bb1-a97b-03d4a5a725aa",
   "metadata": {},
   "outputs": [
    {
     "data": {
      "text/plain": [
       "('rajib ali khan', 24, 6.0, 80)"
      ]
     },
     "execution_count": 6,
     "metadata": {},
     "output_type": "execute_result"
    }
   ],
   "source": [
    "a.about_rajib()"
   ]
  },
  {
   "cell_type": "code",
   "execution_count": null,
   "id": "a63b4297-d6a1-403b-82f4-b33f6bdc9eb9",
   "metadata": {},
   "outputs": [],
   "source": [
    "# Q4 answer :\n",
    "\n",
    "self is used for the every example of the class in OOPS.\n",
    "Noted that, it is not a reserved keyword in Python."
   ]
  },
  {
   "cell_type": "code",
   "execution_count": null,
   "id": "5068309e-968f-440d-91de-32edc295e6e0",
   "metadata": {},
   "outputs": [],
   "source": [
    "# Q5 answer :\n",
    "\n",
    "The process of inheriting the properties of existing class to new class.\n",
    "Basically, inheritance is five types :\n",
    "    1) Single inheritance\n",
    "    2) Multiple Inheritance\n",
    "    3) Multilevel inheritance\n",
    "    4) Hierarchical Inheritance\n",
    "    5) Hybrid Inheritance\n",
    "    \n",
    "Example of Single inheritance :  "
   ]
  },
  {
   "cell_type": "code",
   "execution_count": 7,
   "id": "4694457a-8366-4117-9a35-6c4c61971fd4",
   "metadata": {},
   "outputs": [],
   "source": [
    "class India :\n",
    "    def new_India(self) :\n",
    "        print('It is very beautiful')\n",
    "class Country_name(India) :\n",
    "    def new_Country_name(self) :\n",
    "        print('All are very beautiful')"
   ]
  },
  {
   "cell_type": "code",
   "execution_count": 10,
   "id": "bd1e4b49-69a3-4f9e-a6c9-d86a58f797b1",
   "metadata": {},
   "outputs": [],
   "source": [
    "a = Country_name()"
   ]
  },
  {
   "cell_type": "code",
   "execution_count": 11,
   "id": "6d953337-bc04-4f7c-adb7-1989bc53335b",
   "metadata": {},
   "outputs": [
    {
     "name": "stdout",
     "output_type": "stream",
     "text": [
      "It is very beautiful\n",
      "All are very beautiful\n"
     ]
    }
   ],
   "source": [
    "a.new_India()\n",
    "a.new_Country_name()"
   ]
  },
  {
   "cell_type": "code",
   "execution_count": null,
   "id": "9980ab1b-097f-45ec-bed1-b6f8f2b33613",
   "metadata": {},
   "outputs": [],
   "source": [
    "Example of Multiple inheritance :"
   ]
  },
  {
   "cell_type": "code",
   "execution_count": 1,
   "id": "d0c7a249-3f32-455d-986d-e380222a586f",
   "metadata": {},
   "outputs": [],
   "source": [
    "class Country :\n",
    "    def new_country(self, country_name ,country_area) :\n",
    "        print('Country_name :', country_name, 'Country_Area :', country_area)\n",
    "class State :\n",
    "    def new_state(self, state_name, state_area) :\n",
    "        print('State_name :', state_name, 'State_area :', state_area)\n",
    "class District(Country, State) :\n",
    "    def new_district(self, district_name, district_area) :\n",
    "        print('District_name :', district_name,'Disctrict_area :', district_area)"
   ]
  },
  {
   "cell_type": "code",
   "execution_count": 2,
   "id": "ea1b23d0-f739-41bc-abbd-7abe049d8f37",
   "metadata": {},
   "outputs": [],
   "source": [
    "a = District()"
   ]
  },
  {
   "cell_type": "code",
   "execution_count": 3,
   "id": "281a7e3b-9e82-4950-9f0a-5215d4254e76",
   "metadata": {},
   "outputs": [
    {
     "name": "stdout",
     "output_type": "stream",
     "text": [
      "Country_name : India Country_Area : 800000\n",
      "State_name : West Bengal State_area : 50000\n",
      "District_name : Purba Medinipur Disctrict_area : 10000\n"
     ]
    }
   ],
   "source": [
    "a.new_country('India', 800000)\n",
    "a.new_state('West Bengal', 50000)\n",
    "a.new_district('Purba Medinipur', 10000)"
   ]
  },
  {
   "cell_type": "code",
   "execution_count": null,
   "id": "228fb28d-d06d-4c12-a4f7-f4fea4a11a12",
   "metadata": {},
   "outputs": [],
   "source": [
    "Example of Multilevel inheritance :"
   ]
  },
  {
   "cell_type": "code",
   "execution_count": 4,
   "id": "c74f03a8-d48a-4556-9d29-45c9ddc46205",
   "metadata": {},
   "outputs": [],
   "source": [
    "class Country :\n",
    "    def Country_info(self) :\n",
    "        print('It is a very beautiful')\n",
    "class State(Country) :\n",
    "    def State_info(self) :\n",
    "        print('It also a very beautiful')\n",
    "class District(State) :\n",
    "    def District_info(self) :\n",
    "        print('Very beautiful')"
   ]
  },
  {
   "cell_type": "code",
   "execution_count": 5,
   "id": "3e5a50d0-ab1b-403e-9e8f-5aead34d827c",
   "metadata": {},
   "outputs": [],
   "source": [
    "a = District()"
   ]
  },
  {
   "cell_type": "code",
   "execution_count": 7,
   "id": "6893250e-ad36-4c68-9d6d-0a72576d72d6",
   "metadata": {},
   "outputs": [
    {
     "name": "stdout",
     "output_type": "stream",
     "text": [
      "It is a very beautiful\n",
      "It also a very beautiful\n",
      "Very beautiful\n"
     ]
    }
   ],
   "source": [
    "a.Country_info()\n",
    "a.State_info()\n",
    "a.District_info()"
   ]
  },
  {
   "cell_type": "code",
   "execution_count": null,
   "id": "c7774f2d-f999-40b4-9e72-a34e8421923a",
   "metadata": {},
   "outputs": [],
   "source": [
    "Example of Hierarchical inheritance :"
   ]
  },
  {
   "cell_type": "code",
   "execution_count": 10,
   "id": "e34ed90c-170c-421a-af6d-31b26afd3cb9",
   "metadata": {},
   "outputs": [],
   "source": [
    "class Country :\n",
    "    def info(self) :\n",
    "        print('This is beautiful')\n",
    "class State(Country) :\n",
    "    def State_info(self, State_name) :\n",
    "        print('State name is : ', State_name)\n",
    "class District(Country) :\n",
    "    def District_info(self, District_name) :\n",
    "        print('District name is :', District_name)"
   ]
  },
  {
   "cell_type": "code",
   "execution_count": 11,
   "id": "6a7e28d7-2eb5-4e0f-9211-3d26c54cae3f",
   "metadata": {},
   "outputs": [
    {
     "name": "stdout",
     "output_type": "stream",
     "text": [
      "This is beautiful\n",
      "State name is :  West Bengal\n",
      "This is beautiful\n",
      "District name is : Purba Medinipur\n"
     ]
    }
   ],
   "source": [
    "a1 = State()\n",
    "a1.info()\n",
    "a1.State_info('West Bengal')\n",
    "\n",
    "a2 = District()\n",
    "a2.info()\n",
    "a2.District_info('Purba Medinipur')"
   ]
  },
  {
   "cell_type": "code",
   "execution_count": null,
   "id": "96b55059-dc22-4977-93a9-88ddc321c3c9",
   "metadata": {},
   "outputs": [],
   "source": [
    "Example of Hybrid inheritance :"
   ]
  },
  {
   "cell_type": "code",
   "execution_count": 12,
   "id": "4171a868-5cfb-424b-9b12-3fbacd34f9b4",
   "metadata": {},
   "outputs": [],
   "source": [
    "class Country :\n",
    "    def Country_info(self) :\n",
    "        print('This is very beautiful')\n",
    "class State(Country) :\n",
    "    def State_info(self) :\n",
    "        print('This is also very beautiful')\n",
    "class District(Country) :\n",
    "    def District_info(self) :\n",
    "        print('Very beautiful')\n",
    "class City(State, Country) :\n",
    "    def City_info(self) :\n",
    "        print('Most beautiful city')"
   ]
  },
  {
   "cell_type": "code",
   "execution_count": 13,
   "id": "8b4a3643-820f-4cb0-aa35-76a84d58fb66",
   "metadata": {},
   "outputs": [],
   "source": [
    "a = City()"
   ]
  },
  {
   "cell_type": "code",
   "execution_count": 14,
   "id": "800cd4b6-6535-4d9f-a086-9ad72a475e92",
   "metadata": {},
   "outputs": [
    {
     "name": "stdout",
     "output_type": "stream",
     "text": [
      "This is very beautiful\n",
      "This is also very beautiful\n",
      "Most beautiful city\n"
     ]
    }
   ],
   "source": [
    "a.Country_info()\n",
    "a.State_info()\n",
    "a.City_info()"
   ]
  },
  {
   "cell_type": "code",
   "execution_count": null,
   "id": "2229b1cd-8537-435f-95da-05e0082f851d",
   "metadata": {},
   "outputs": [],
   "source": []
  }
 ],
 "metadata": {
  "kernelspec": {
   "display_name": "Python 3 (ipykernel)",
   "language": "python",
   "name": "python3"
  },
  "language_info": {
   "codemirror_mode": {
    "name": "ipython",
    "version": 3
   },
   "file_extension": ".py",
   "mimetype": "text/x-python",
   "name": "python",
   "nbconvert_exporter": "python",
   "pygments_lexer": "ipython3",
   "version": "3.10.8"
  }
 },
 "nbformat": 4,
 "nbformat_minor": 5
}
